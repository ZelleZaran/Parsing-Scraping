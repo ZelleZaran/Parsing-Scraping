{
 "cells": [
  {
   "cell_type": "markdown",
   "metadata": {},
   "source": [
    "1. Посмотреть документацию к API GitHub, разобраться как вывести список репозиториев для конкретного пользователя, сохранить JSON-вывод в файле *.json."
   ]
  },
  {
   "cell_type": "code",
   "execution_count": 1,
   "metadata": {},
   "outputs": [],
   "source": [
    "import requests\n",
    "import json"
   ]
  },
  {
   "cell_type": "code",
   "execution_count": 14,
   "metadata": {},
   "outputs": [
    {
     "name": "stdout",
     "output_type": "stream",
     "text": [
      "Login: zellezaran\n",
      "-Python-Data-Science-Numpy-Matplotlib-Scikit-learn\n",
      "100-pandas-puzzles\n",
      "Databases-sql\n",
      "Homework\n",
      "Parsing-Scraping\n",
      "StartupIdeas\n"
     ]
    }
   ],
   "source": [
    "user = input('Login: ')\n",
    "main_link = f'https://api.github.com/users/{user}/repos'\n",
    "\n",
    "r = requests.get(main_link)\n",
    "repos = []\n",
    "for i in r.json():\n",
    "    print(i['name'])\n",
    "    repos.append(i['name'])\n",
    "   "
   ]
  },
  {
   "cell_type": "markdown",
   "metadata": {},
   "source": [
    "2. Изучить список открытых API (https://www.programmableweb.com/category/all/apis). Найти среди них любое, требующее авторизацию (любого типа). Выполнить запросы к нему, пройдя авторизацию. Ответ сервера записать в файл."
   ]
  },
  {
   "cell_type": "code",
   "execution_count": 48,
   "metadata": {},
   "outputs": [
    {
     "name": "stdout",
     "output_type": "stream",
     "text": [
      "Check sections_list and chose a section: culture\n",
      "German-Brazilian\n",
      "Graeco-Scythian\n",
      "Turkistani\n",
      "Uruguayan\n",
      "Mayan\n",
      "Unspecified Islamic\n",
      "African\n",
      "Austro-Hungarian\n",
      "Malaysian\n",
      "Mittanian\n"
     ]
    }
   ],
   "source": [
    "# b4305676-c127-4e14-b2eb-9e2341318627\n",
    "# 'Mozilla/5.0 (Windows NT 10.0; Win64; x64; rv:80.0) Gecko/20100101 Firefox/80.0'\n",
    "# Harvard Art Museums API\n",
    "sections_list = [\n",
    "    'object',\n",
    "    'person',\n",
    "    'exhibition',\n",
    "    'publication',\n",
    "    'gallery',\n",
    "    'spectrum',\n",
    "    'classification',\n",
    "    'century',\n",
    "    'color',\n",
    "    'culture',\n",
    "    'group',\n",
    "    'medium',\n",
    "    'period',\n",
    "    'place',\n",
    "    'technique',\n",
    "    'worktype',\n",
    "    'activity',\n",
    "    'site',\n",
    "    'video',\n",
    "    'image',\n",
    "    'audio',\n",
    "    'annotation'\n",
    "]\n",
    "key = 'b4305676-c127-4e14-b2eb-9e2341318627'\n",
    "section = input('Check sections_list and chose a section: ')\n",
    "link = f'https://api.harvardartmuseums.org/{section}?apikey={key}'\n",
    "#headers = {'User-Agent':'Mozilla/5.0 (Windows NT 10.0; Win64; x64; rv:80.0) Gecko/20100101 Firefox/80.0'}\n",
    "#params = {'apikey' : 'b4305676-c127-4e14-b2eb-9e2341318627'}\n",
    "r = requests.get(link)\n",
    "culture_list = []\n",
    "data = r.json()\n",
    "for i in data['records']:\n",
    "    print(i['name'])\n",
    "    culture_list.append(i['name'])\n",
    "\n",
    "\n",
    "   "
   ]
  },
  {
   "cell_type": "code",
   "execution_count": 8,
   "metadata": {},
   "outputs": [
    {
     "name": "stdout",
     "output_type": "stream",
     "text": [
      "Check sections_list and chose a section: image\n",
      "https://nrs.harvard.edu/urn-3:HUAM:INV009956_dynmc\n"
     ]
    }
   ],
   "source": [
    "# Работа с картинками\n",
    "key = 'b4305676-c127-4e14-b2eb-9e2341318627'\n",
    "section = input('Check sections_list and chose a section: ')\n",
    "link = f'https://api.harvardartmuseums.org/{section}?apikey={key}'\n",
    "r = requests.get(link)\n",
    "images = r.json()\n",
    "image = images['records'][2]['baseimageurl']\n",
    "print(image)\n",
    "pic = requests.get(image)\n",
    "with open ('pic.jpg', 'wb') as f:\n",
    "    f.write(pic.content)\n",
    "    "
   ]
  },
  {
   "cell_type": "code",
   "execution_count": null,
   "metadata": {},
   "outputs": [],
   "source": []
  }
 ],
 "metadata": {
  "kernelspec": {
   "display_name": "Python 3",
   "language": "python",
   "name": "python3"
  },
  "language_info": {
   "codemirror_mode": {
    "name": "ipython",
    "version": 3
   },
   "file_extension": ".py",
   "mimetype": "text/x-python",
   "name": "python",
   "nbconvert_exporter": "python",
   "pygments_lexer": "ipython3",
   "version": "3.7.4"
  }
 },
 "nbformat": 4,
 "nbformat_minor": 2
}
